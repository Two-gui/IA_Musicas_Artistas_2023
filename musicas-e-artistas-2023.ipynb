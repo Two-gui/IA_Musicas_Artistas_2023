{
 "cells": [
  {
   "cell_type": "code",
   "execution_count": 1,
   "metadata": {},
   "outputs": [
    {
     "ename": "SyntaxError",
     "evalue": "invalid syntax (2271580899.py, line 1)",
     "output_type": "error",
     "traceback": [
      "\u001b[1;36m  Cell \u001b[1;32mIn[1], line 1\u001b[1;36m\u001b[0m\n\u001b[1;33m    python -m nbconvert --to html .\\musicas-e-artistas-2023.ipynb\u001b[0m\n\u001b[1;37m              ^\u001b[0m\n\u001b[1;31mSyntaxError\u001b[0m\u001b[1;31m:\u001b[0m invalid syntax\n"
     ]
    }
   ],
   "source": [
    "python -m nbconvert --to html .\\musicas-e-artistas-2023.ipynb"
   ]
  },
  {
   "cell_type": "markdown",
   "metadata": {},
   "source": [
    "# **Músicas mais tocadas Spotify 2023**\n",
    "\n",
    "Este conjunto de dados trás comparações entre as músicas mais tocadas na plataforma do Spotify, trazendo dados sobre a sua popularidade e presença em outras plataformas dentre outros aspectos como nome da faixa, nome do(s) artista(s), data de lançamento, listas de reprodução e paradas do Spotify, estatísticas de streaming, presença da Apple Music, presença do Deezer, Shazam Charts e vários recursos de áudio."
   ]
  },
  {
   "cell_type": "markdown",
   "metadata": {
    "id": "bB-i0wynwVC7"
   },
   "source": [
    "# Variáveis:\n",
    "* **track_name:** Nome da música (String)\n",
    "* **artist(s)_name:** Nome do artista (String)\n",
    "* **artist_count:** Quantidade de artistas presentes na produção (Int)\n",
    "* **released_year:** Ano de Lançamento da música (Int)\n",
    "* **in_spotify_playlists:** Quantidade de playlists em que a música está presente no Spotify (Int)\n",
    "* **in_spotify_charts:** Presença e ranking da música nas paradas do Spotify (Int)\n",
    "* **streams:** Número de transmissões na plataforma do Spotify (String)\n",
    "* **in_apple_playlists:** Número de playlists em que a música está incluida no Apple Music (Int)\n",
    "* **in_apple_charts:** Presença e ranking da música nas paradas da Apple Music (Int)\n",
    "* **in_deezer_playlists:** Número de playlists em que a música está incluida no Deezer (Int)\n",
    "* **in_deezer_charts:** Presença e ranking da música nas pardas do Deezer (Int)\n",
    "* **in_shazam_charts:** Presença e ranking da música nas paradas do Shazam (Int)\n",
    "* **bpm:** As batidas por segundo da música (Int)\n",
    "* **key:** O tom no qual a música foi feita (String)\n",
    "* **mode:** Se a música foi feita em maior ou menor (String)\n",
    "* **danceability_%:** Porcentagem da música em que se tem vontade de dançar (Float)\n",
    "* **valence_%:** Porcentagem da música em que se produz uma sensação positiva (Float)\n",
    "* **acousticness_%:** Porcentagem da música em que está presente um som acústico (Float)\n",
    "* **instrumentalness_%:** Porcentagem de momentos instrumentais na música (Float)"
   ]
  },
  {
   "cell_type": "markdown",
   "metadata": {
    "id": "ptCqLvzSwVC8"
   },
   "source": [
    "## Objetivos da análise:\n",
    "\n",
    "\n",
    "1.   Encontrar os artistas e as músicas mais populares\n",
    "2.   Verificar comportamentos em cada plataforma\n"
   ]
  },
  {
   "cell_type": "markdown",
   "metadata": {
    "id": "sjQKboicwVC8"
   },
   "source": [
    "# Conhecendo os dados"
   ]
  },
  {
   "cell_type": "code",
   "execution_count": null,
   "metadata": {
    "_cell_guid": "b1076dfc-b9ad-4769-8c92-a6c4dae69d19",
    "_uuid": "8f2839f25d086af736a60e9eeb907d3b93b6e0e5",
    "execution": {
     "iopub.execute_input": "2024-12-05T20:21:03.714189Z",
     "iopub.status.busy": "2024-12-05T20:21:03.713808Z",
     "iopub.status.idle": "2024-12-05T20:21:03.720022Z",
     "shell.execute_reply": "2024-12-05T20:21:03.718660Z",
     "shell.execute_reply.started": "2024-12-05T20:21:03.714157Z"
    },
    "id": "JyHHab0-wVC8",
    "trusted": true
   },
   "outputs": [],
   "source": [
    "# Importar bibliotecas\n",
    "import numpy as np # biblioteca para computação científica, cálculos\n",
    "import pandas as pd # biblioteca para processamento de dados\n",
    "import matplotlib.pyplot as plt # plotagem de gráficos, como linhas, barras, dispersão\n",
    "import seaborn as sns # criação de gráficos estatísticos e visualizações mais complexas\n",
    "from matplotlib.colors import ListedColormap #Atribuição de lista de cores"
   ]
  },
  {
   "cell_type": "code",
   "execution_count": null,
   "metadata": {
    "execution": {
     "iopub.execute_input": "2024-12-05T20:21:03.723213Z",
     "iopub.status.busy": "2024-12-05T20:21:03.722736Z",
     "iopub.status.idle": "2024-12-05T20:21:03.733219Z",
     "shell.execute_reply": "2024-12-05T20:21:03.731878Z",
     "shell.execute_reply.started": "2024-12-05T20:21:03.723164Z"
    },
    "trusted": true
   },
   "outputs": [],
   "source": [
    "# For scaling data\n",
    "from sklearn.preprocessing import StandardScaler\n",
    "from sklearn.pipeline import make_pipeline\n",
    "from sklearn.decomposition import PCA\n",
    "\n",
    "from sklearn.datasets import load_iris\n",
    "from sklearn.model_selection import train_test_split\n",
    "\n",
    "from sklearn import metrics"
   ]
  },
  {
   "cell_type": "code",
   "execution_count": null,
   "metadata": {
    "execution": {
     "iopub.execute_input": "2024-12-05T20:21:03.735251Z",
     "iopub.status.busy": "2024-12-05T20:21:03.734730Z",
     "iopub.status.idle": "2024-12-05T20:21:03.753981Z",
     "shell.execute_reply": "2024-12-05T20:21:03.752515Z",
     "shell.execute_reply.started": "2024-12-05T20:21:03.735126Z"
    },
    "id": "SM1ql5g_wVC9",
    "trusted": true
   },
   "outputs": [],
   "source": [
    "# Modelos\n",
    "from sklearn.neighbors import KNeighborsRegressor # KNN\n",
    "from sklearn.neighbors import kneighbors_graph\n",
    "from sklearn.neighbors import KNeighborsClassifier # Para redução de dimensionalidade\n",
    "from sklearn.decomposition import PCA \n",
    "\n",
    "from sklearn.tree import DecisionTreeRegressor # Floresta Aleatória\n",
    "\n",
    "from sklearn import tree\n",
    "from sklearn.tree import DecisionTreeClassifier, plot_tree\n",
    "\n",
    "from sklearn.linear_model import LinearRegression\n",
    "from sklearn.metrics import accuracy_score, confusion_matrix, classification_report\n",
    "\n",
    "from sklearn.linear_model import LogisticRegression\n",
    "from sklearn.metrics import confusion_matrix\n",
    "\n",
    "from sklearn.model_selection import train_test_split # Divisão de dados e validação\n",
    "\n",
    "from sklearn.metrics import accuracy_score, classification_report, mean_squared_error, mean_absolute_error, r2_score # Métricas"
   ]
  },
  {
   "cell_type": "code",
   "execution_count": null,
   "metadata": {
    "execution": {
     "iopub.execute_input": "2024-12-05T20:21:03.756239Z",
     "iopub.status.busy": "2024-12-05T20:21:03.755767Z",
     "iopub.status.idle": "2024-12-05T20:21:03.776474Z",
     "shell.execute_reply": "2024-12-05T20:21:03.775294Z",
     "shell.execute_reply.started": "2024-12-05T20:21:03.756188Z"
    },
    "id": "VKplAMF-wVC9",
    "trusted": true
   },
   "outputs": [],
   "source": [
    "# Ler dados\n",
    "dados = pd.read_csv('/kaggle/input/top-spotify-songs-2023/spotify-2023.csv', encoding='latin1')\n",
    "# Usando 'latin1', aparentemente o arquivo contém caracteres especiais que não são interpretados pela codificação padrão"
   ]
  },
  {
   "cell_type": "code",
   "execution_count": null,
   "metadata": {
    "colab": {
     "base_uri": "https://localhost:8080/",
     "height": 342
    },
    "execution": {
     "iopub.execute_input": "2024-12-05T20:21:03.780389Z",
     "iopub.status.busy": "2024-12-05T20:21:03.779914Z",
     "iopub.status.idle": "2024-12-05T20:21:03.807119Z",
     "shell.execute_reply": "2024-12-05T20:21:03.805804Z",
     "shell.execute_reply.started": "2024-12-05T20:21:03.780339Z"
    },
    "id": "4ZTYjFH3wVC-",
    "outputId": "f38e9e15-aff4-4feb-d535-ccd6c70d950d",
    "trusted": true
   },
   "outputs": [],
   "source": [
    "# Exibir as primeiras linhas do dataframe\n",
    "dados.head()"
   ]
  },
  {
   "cell_type": "code",
   "execution_count": null,
   "metadata": {
    "colab": {
     "base_uri": "https://localhost:8080/"
    },
    "execution": {
     "iopub.execute_input": "2024-12-05T20:21:03.809558Z",
     "iopub.status.busy": "2024-12-05T20:21:03.809108Z",
     "iopub.status.idle": "2024-12-05T20:21:03.831080Z",
     "shell.execute_reply": "2024-12-05T20:21:03.829710Z",
     "shell.execute_reply.started": "2024-12-05T20:21:03.809508Z"
    },
    "id": "u80k-IabwVC-",
    "outputId": "d658cdb3-ccbd-439e-dd64-0692e6470ac3",
    "trusted": true
   },
   "outputs": [],
   "source": [
    "# Informações sobre os dados coletados\n",
    "dados.info()"
   ]
  },
  {
   "cell_type": "markdown",
   "metadata": {
    "id": "11r2iaEdwVC-"
   },
   "source": [
    "# Pré-processamento"
   ]
  },
  {
   "cell_type": "code",
   "execution_count": null,
   "metadata": {
    "execution": {
     "iopub.execute_input": "2024-12-05T20:21:03.833027Z",
     "iopub.status.busy": "2024-12-05T20:21:03.832673Z",
     "iopub.status.idle": "2024-12-05T20:21:03.846837Z",
     "shell.execute_reply": "2024-12-05T20:21:03.845678Z",
     "shell.execute_reply.started": "2024-12-05T20:21:03.832993Z"
    },
    "id": "dqzkOxqOwVC_",
    "trusted": true
   },
   "outputs": [],
   "source": [
    "# Selecionar colunas para remover\n",
    "colunas_para_remover = [\n",
    "    'bpm', 'key', 'mode', 'danceability_%', 'valence_%',\n",
    "    'energy_%', 'acousticness_%', 'instrumentalness_%',\n",
    "    'liveness_%', 'speechiness_%', 'in_shazam_charts'\n",
    "]\n",
    "\n",
    "# Remover as colunas\n",
    "dados = dados.drop(columns=colunas_para_remover)"
   ]
  },
  {
   "cell_type": "code",
   "execution_count": null,
   "metadata": {
    "colab": {
     "base_uri": "https://localhost:8080/",
     "height": 206
    },
    "execution": {
     "iopub.execute_input": "2024-12-05T20:21:03.849073Z",
     "iopub.status.busy": "2024-12-05T20:21:03.848617Z",
     "iopub.status.idle": "2024-12-05T20:21:03.872318Z",
     "shell.execute_reply": "2024-12-05T20:21:03.871226Z",
     "shell.execute_reply.started": "2024-12-05T20:21:03.849010Z"
    },
    "id": "J9j4w7zFwVC_",
    "outputId": "79a906ea-08e5-4e73-c739-45c9de07c05d",
    "trusted": true
   },
   "outputs": [],
   "source": [
    "# Visualizar o dataframe após remover as colunas\n",
    "dados.head()"
   ]
  },
  {
   "cell_type": "code",
   "execution_count": null,
   "metadata": {
    "colab": {
     "base_uri": "https://localhost:8080/"
    },
    "execution": {
     "iopub.execute_input": "2024-12-05T20:21:03.874168Z",
     "iopub.status.busy": "2024-12-05T20:21:03.873733Z",
     "iopub.status.idle": "2024-12-05T20:21:03.889079Z",
     "shell.execute_reply": "2024-12-05T20:21:03.887883Z",
     "shell.execute_reply.started": "2024-12-05T20:21:03.874129Z"
    },
    "id": "DvHq5MbewVC_",
    "outputId": "a596083b-11ec-4125-f285-d335cc2ce5a2",
    "trusted": true
   },
   "outputs": [],
   "source": [
    "# Verificar quais valores na coluna 'streams' não são numéricos\n",
    "nao_numericos = dados[~dados['streams'].str.isnumeric()]\n",
    "print(nao_numericos)"
   ]
  },
  {
   "cell_type": "code",
   "execution_count": null,
   "metadata": {
    "execution": {
     "iopub.execute_input": "2024-12-05T20:21:03.907320Z",
     "iopub.status.busy": "2024-12-05T20:21:03.906474Z",
     "iopub.status.idle": "2024-12-05T20:21:03.915217Z",
     "shell.execute_reply": "2024-12-05T20:21:03.913984Z",
     "shell.execute_reply.started": "2024-12-05T20:21:03.907279Z"
    },
    "id": "UiUDjJITwVC_",
    "trusted": true
   },
   "outputs": [],
   "source": [
    "# Remover linha 574\n",
    "dados = dados.drop(574)\n",
    "\n",
    "# Converter 'streams' para int\n",
    "dados['streams'] = dados['streams'].astype(int)"
   ]
  },
  {
   "cell_type": "code",
   "execution_count": null,
   "metadata": {
    "colab": {
     "base_uri": "https://localhost:8080/"
    },
    "execution": {
     "iopub.execute_input": "2024-12-05T20:21:03.918520Z",
     "iopub.status.busy": "2024-12-05T20:21:03.918049Z",
     "iopub.status.idle": "2024-12-05T20:21:03.935536Z",
     "shell.execute_reply": "2024-12-05T20:21:03.934382Z",
     "shell.execute_reply.started": "2024-12-05T20:21:03.918468Z"
    },
    "id": "cZvmBxFowVC_",
    "outputId": "fd7e8bb3-af5e-4cdc-b5c1-e83dacd8602c",
    "trusted": true
   },
   "outputs": [],
   "source": [
    "# Verificar quais valores na coluna 'in_deezer_plylists' não são numéricos\n",
    "nao_numericos = dados[~dados['in_deezer_playlists'].str.isnumeric()]\n",
    "print(nao_numericos)"
   ]
  },
  {
   "cell_type": "markdown",
   "metadata": {
    "id": "z4g3sOHkwVDA"
   },
   "source": [
    "Os números na coluna 'in_deezer_playlists' estão sendo apresentados com uma vírgula, diferente dos demais."
   ]
  },
  {
   "cell_type": "code",
   "execution_count": null,
   "metadata": {
    "execution": {
     "iopub.execute_input": "2024-12-05T20:21:03.937324Z",
     "iopub.status.busy": "2024-12-05T20:21:03.936915Z",
     "iopub.status.idle": "2024-12-05T20:21:03.946436Z",
     "shell.execute_reply": "2024-12-05T20:21:03.945008Z",
     "shell.execute_reply.started": "2024-12-05T20:21:03.937289Z"
    },
    "id": "hJg--LHkwVDA",
    "trusted": true
   },
   "outputs": [],
   "source": [
    "# Remover a vírgula e converter para int\n",
    "dados['in_deezer_playlists'] = dados['in_deezer_playlists'].str.replace(',', '').astype(int)"
   ]
  },
  {
   "cell_type": "code",
   "execution_count": null,
   "metadata": {
    "colab": {
     "base_uri": "https://localhost:8080/"
    },
    "execution": {
     "iopub.execute_input": "2024-12-05T20:21:03.948537Z",
     "iopub.status.busy": "2024-12-05T20:21:03.948080Z",
     "iopub.status.idle": "2024-12-05T20:21:03.963168Z",
     "shell.execute_reply": "2024-12-05T20:21:03.961680Z",
     "shell.execute_reply.started": "2024-12-05T20:21:03.948487Z"
    },
    "id": "InwAMyQxwVDA",
    "outputId": "5e20bd40-179e-4b60-88d9-ab568a3c7f34",
    "trusted": true
   },
   "outputs": [],
   "source": [
    "# Informações sobre os dados depois das conversões de tipo\n",
    "dados.info()"
   ]
  },
  {
   "cell_type": "code",
   "execution_count": null,
   "metadata": {
    "colab": {
     "base_uri": "https://localhost:8080/"
    },
    "execution": {
     "iopub.execute_input": "2024-12-05T20:21:03.967773Z",
     "iopub.status.busy": "2024-12-05T20:21:03.967366Z",
     "iopub.status.idle": "2024-12-05T20:21:03.979139Z",
     "shell.execute_reply": "2024-12-05T20:21:03.977844Z",
     "shell.execute_reply.started": "2024-12-05T20:21:03.967726Z"
    },
    "id": "NeqP_-TawVDA",
    "outputId": "f0cc532d-48e3-4578-9c50-ed08249d6106",
    "trusted": true
   },
   "outputs": [],
   "source": [
    "# Contar o número de linhas duplicadas\n",
    "numero_de_linhas_duplicadas = dados.duplicated().sum()\n",
    "print(f\"Número de linhas duplicadas: {numero_de_linhas_duplicadas}\")"
   ]
  },
  {
   "cell_type": "markdown",
   "metadata": {
    "id": "if3ATyMwwVDA"
   },
   "source": [
    "Antes de iniciar a análise, é necessário examinar as linhas que estão com problemas (caracteres especiais):"
   ]
  },
  {
   "cell_type": "code",
   "execution_count": null,
   "metadata": {
    "execution": {
     "iopub.execute_input": "2024-12-05T20:21:03.982715Z",
     "iopub.status.busy": "2024-12-05T20:21:03.982084Z",
     "iopub.status.idle": "2024-12-05T20:21:04.142218Z",
     "shell.execute_reply": "2024-12-05T20:21:04.141051Z",
     "shell.execute_reply.started": "2024-12-05T20:21:03.982678Z"
    },
    "id": "bX8WjmJgwVDA",
    "trusted": true
   },
   "outputs": [],
   "source": [
    "# Identificar linhas com caracteres que fogem do padrão\n",
    "linhas_com_problema = dados[dados.astype(str).apply(lambda row: row.str.contains(r'[^\\x00-\\x7F]', regex=True).any(), axis=1)]"
   ]
  },
  {
   "cell_type": "code",
   "execution_count": null,
   "metadata": {
    "colab": {
     "base_uri": "https://localhost:8080/"
    },
    "execution": {
     "iopub.execute_input": "2024-12-05T20:21:04.144386Z",
     "iopub.status.busy": "2024-12-05T20:21:04.143944Z",
     "iopub.status.idle": "2024-12-05T20:21:04.150400Z",
     "shell.execute_reply": "2024-12-05T20:21:04.149486Z",
     "shell.execute_reply.started": "2024-12-05T20:21:04.144338Z"
    },
    "id": "Y1_nzflGwVDA",
    "outputId": "d619fa59-a04c-4fff-e062-d8e107b5d414",
    "trusted": true
   },
   "outputs": [],
   "source": [
    "# Contar o número de linhas com problemas\n",
    "numero_de_linhas_com_problema = len(linhas_com_problema)\n",
    "\n",
    "print(f\"Número de linhas com problemas: {numero_de_linhas_com_problema}\")"
   ]
  },
  {
   "cell_type": "code",
   "execution_count": null,
   "metadata": {
    "colab": {
     "base_uri": "https://localhost:8080/"
    },
    "execution": {
     "iopub.execute_input": "2024-12-05T20:21:04.152204Z",
     "iopub.status.busy": "2024-12-05T20:21:04.151715Z",
     "iopub.status.idle": "2024-12-05T20:21:04.167293Z",
     "shell.execute_reply": "2024-12-05T20:21:04.165733Z",
     "shell.execute_reply.started": "2024-12-05T20:21:04.152156Z"
    },
    "id": "jw6yBZ5nwVDA",
    "outputId": "54bc4548-e925-4803-ba10-d27bbd80c366",
    "trusted": true
   },
   "outputs": [],
   "source": [
    "# Filtrar apenas as colunas \"track_name\" e \"artist(s)_name\"\n",
    "colunas_selecionadas = linhas_com_problema[['track_name', 'artist(s)_name']]\n",
    "\n",
    "# Exibir todas as linhas das colunas selecionadas\n",
    "with pd.option_context('display.max_rows', None):\n",
    "    print(colunas_selecionadas)"
   ]
  },
  {
   "cell_type": "code",
   "execution_count": null,
   "metadata": {
    "execution": {
     "iopub.execute_input": "2024-12-05T20:21:04.169659Z",
     "iopub.status.busy": "2024-12-05T20:21:04.169186Z",
     "iopub.status.idle": "2024-12-05T20:21:04.276993Z",
     "shell.execute_reply": "2024-12-05T20:21:04.275655Z",
     "shell.execute_reply.started": "2024-12-05T20:21:04.169607Z"
    },
    "id": "hnlvZF3kwVDB",
    "trusted": true
   },
   "outputs": [],
   "source": [
    "# Dicionário de substituições para corrigir caracteres corrompidos\n",
    "substituicoes = {\n",
    "    \"Marï¿½ï¿½lia Mendonï¿½ï¿½a\": \"Marília Mendonça\",\n",
    "    \"Marï¿½ï¿½lia\": \"Marília\",\n",
    "    \"Matuï¿½ï¿½\": \"Matuê\",\n",
    "    \"Luï¿½ï¿½sa Sonza\": \"Luíza Sonza\",\n",
    "    \"Zï¿½ï¿½\": \"Zé\",\n",
    "    \"Beyoncï¿\": \"Beyoncé\",\n",
    "    \"Tiï¿½ï¿½sto\": \"Tiesto\",\n",
    "    \"Estï¿½ï¿½reo\": \"Estéreo\",\n",
    "    \"Frï¿½ï¿½gil\": \"Frágil\",\n",
    "    \"Schï¿½ï¿½rze\": \"Schürze\",\n",
    "    \"ROSALï¿½\": \"ROSALIA\",\n",
    "    \"Rï¿½ï¿½ma\": \"Rema\",\n",
    "    \"Cumpleaï¿½ï¿½os\": \"Cumpleaños\",\n",
    "    \"INGLï¿½\": \"INGLÉS\",\n",
    "    \"Didnï¿½ï¿½ï¿½t\": \"Didn't\",\n",
    "    \"Cayï¿½ï¿½\": \"Cayó\",\n",
    "    \"Cafunï¿½ï¿½\": \"Cafuné\",\n",
    "    \"Arcï¿½ï¿½ngel\": \"Arcangel\",\n",
    "    \"Nuï¿½ï¿½ez\": \"Nunez\",\n",
    "    \"Mï¿½ï¿½ne\": \"Maneskin\",\n",
    "    \"Bublï¿\": \"Bublé\",\n",
    "    \"Ainï¿½ï¿½ï¿½t\": \"Ain't\",\n",
    "    \"ï¿½ï¿½LTIMA\": \"ÚLTIMA\",\n",
    "    \"Lï¿½ï¿½\": \"Lá\",\n",
    "    \"(Taylorï¿½ï¿½ï¿½s\": \"(Taylor's\",\n",
    "    \"Preguntï¿\": \"Preguntó\",\n",
    "    \"Escï¿½ï¿½cia\": \"Escócia\",\n",
    "    \"Josï¿½ï¿½\": \"João\",\n",
    "    \"Goï¿½ï¿½ï¿½\": \"Go...\",\n",
    "    \"Tavï¿½ï¿½rez\": \"Tavaréz\",\n",
    "    \"Xamï¿½ï¿½\": \"Xamã\",\n",
    "    \"Malvadï¿½ï¿\": \"Malvadão\",\n",
    "    \"Muï¿½ï\": \"Munõz\",\n",
    "    \"Bï¿½\": \"Bia\",\n",
    "    \"Seï¿½ï\": \"Senãl\",\n",
    "    \"Ahï¿\": \"Ahí\",\n",
    "    \"Mï¿½ï¿½gi\": \"Mágico\",\n",
    "    \"Ensï¿½ï¿½ï¿½ï¿½ame\": \"Enséñame\",\n",
    "    \"Tubarï¿½ï¿½o\": \"Tubarão\",\n",
    "    \"cï¿½ï¿½mo\": \"cómo\",\n",
    "    \"Novidade na ï¿½ï¿\": \"Novidade na Área\",\n",
    "    \"Tiï¿½ï¿\": \"Tiësto\",\n",
    "    \"ï¿½ï¿½engo\": \"Ñengo\",\n",
    "    \"Despuï¿½ï¿½s\": \"Después\",\n",
    "    \"Iï¿½ï¿½ï¿½m\": \"I'm\",\n",
    "    \"Conexï¿½ï¿½es de Mï¿½ï¿½fia\": \"Conexões de Máfia\",\n",
    "    \"Apagï¿½\": \"Apagón\",\n",
    "    \"Tï¿½ï¿\": \"Tá OK\",\n",
    "    \"Donï¿½ï¿½ï¿½\": \"Don't\",\n",
    "    \"Balanï¿½\": \"Balanço\",\n",
    "    \"Monï¿½ï¿½y\": \"Monëy\",\n",
    "    \"DANï¿½ï¿½A\": \"DANÇARINA\",\n",
    "    \"Problemï¿½\": \"Problemón\",\n",
    "    \"Cartï¿½ï¿½o\": \"Cartão\",\n",
    "    \"Medellï¿½\": \"Medellín\",\n",
    "    \"Munõz¿½\": \"Muñecas\",\n",
    "    \"Alianï¿½ï¿½a\": \"Aliança\",\n",
    "    \"Niï¿½ï¿½a\": \"Niña\",\n",
    "    \"ýýý98 Braves\": \"'98 Braves\",\n",
    "    \"Nostï¿½ï¿½l\": \"Nostálgico\",\n",
    "    \"Esqueï¿½ï¿½a-Me Se For C\": \"Esqueça-me Se For Capaz\",\n",
    "    \"Quï¿½ï¿½ Mï¿½ï¿\": \"Qué Más Pues?\",\n",
    "    \"Doï¿½ï¿½u\": \"Doğu Swag\",\n",
    "    \"Piï¿½ï¿½man Deï¿\": \"Pişman Değilim\",\n",
    "    \"Sï¿½ï¿½\": \"Súbelo\",\n",
    "    \"Cï¿½ï¿½\": \"Cúrame\",\n",
    "    \"RUMBATÓN\": \"RUMBATï¿½\",\n",
    "    \"Me Arrepentï¿\": \"Me Arrepentí\",\n",
    "    \"GATá OK½\": \"Gatúbela\",\n",
    "    \"CORAZï¿½ï¿½N VA\": \"CORAZÓN VACÍO\",\n",
    "    \"CCORAZéN\": \"CORAZÓN VACÍO\",\n",
    "    \"Beï¿½ï\": \"Beéle\"\n",
    "}\n",
    "\n",
    "# Substituir os valores nas colunas 'track_name' e 'artist(s)_name'\n",
    "for erro, correcao in substituicoes.items():\n",
    "    dados['track_name'] = dados['track_name'].str.replace(erro, correcao)\n",
    "    dados['artist(s)_name'] = dados['artist(s)_name'].str.replace(erro, correcao)"
   ]
  },
  {
   "cell_type": "code",
   "execution_count": null,
   "metadata": {
    "execution": {
     "iopub.execute_input": "2024-12-05T20:21:04.279707Z",
     "iopub.status.busy": "2024-12-05T20:21:04.278655Z",
     "iopub.status.idle": "2024-12-05T20:21:04.291716Z",
     "shell.execute_reply": "2024-12-05T20:21:04.290251Z",
     "shell.execute_reply.started": "2024-12-05T20:21:04.279638Z"
    },
    "id": "yAvglzXSwVDB",
    "trusted": true
   },
   "outputs": [],
   "source": [
    "# Linhas a serem removidas\n",
    "linhas_para_excluir = [\n",
    "\t174, 202, 265, 275, 278, 337, 351, 354, 368, 369,\n",
    "\t374, 500, 547, 557, 646, 913\n",
    "]\n",
    "\n",
    "# Remover as linhas pelo índice\n",
    "dados = dados.drop(linhas_para_excluir)"
   ]
  },
  {
   "cell_type": "markdown",
   "metadata": {
    "id": "xudQfApNwVDB"
   },
   "source": [
    "# Análise Exploratória de Dados"
   ]
  },
  {
   "cell_type": "markdown",
   "metadata": {
    "id": "1cSDsntNTfnM"
   },
   "source": [
    "# Análise de Popularidade\n",
    "\n",
    "Nesta sessão vamos fazer algumas análises e correlacionar elas posteriormente com o objetivo de encontrar os artistas mais populares e suas músicas.\n",
    "\n",
    "1.   Artistas com mais músicas\n",
    "2.   Artistas mais presentes nos charts de cada plataforma\n",
    "3.   Músicas mais presentes nas playlists de cada plataforma\n",
    "4.   Músicas com mais transmissões gerais\n"
   ]
  },
  {
   "cell_type": "markdown",
   "metadata": {
    "id": "DTMbW4QKADPv"
   },
   "source": [
    "**Ocorrências**"
   ]
  },
  {
   "cell_type": "code",
   "execution_count": null,
   "metadata": {
    "colab": {
     "base_uri": "https://localhost:8080/",
     "height": 490
    },
    "execution": {
     "iopub.execute_input": "2024-12-05T20:21:04.293643Z",
     "iopub.status.busy": "2024-12-05T20:21:04.293195Z",
     "iopub.status.idle": "2024-12-05T20:21:04.305179Z",
     "shell.execute_reply": "2024-12-05T20:21:04.304148Z",
     "shell.execute_reply.started": "2024-12-05T20:21:04.293576Z"
    },
    "id": "reBeWhu9MZiQ",
    "outputId": "3dbcee8c-ceff-4c8d-a0ba-5c08c44f9da8",
    "trusted": true
   },
   "outputs": [],
   "source": [
    "# Quantidade de vezes que uma artista esteve presente\n",
    "dados['artist(s)_name'].value_counts()"
   ]
  },
  {
   "cell_type": "code",
   "execution_count": null,
   "metadata": {
    "execution": {
     "iopub.execute_input": "2024-12-05T20:21:04.307119Z",
     "iopub.status.busy": "2024-12-05T20:21:04.306683Z",
     "iopub.status.idle": "2024-12-05T20:21:04.702855Z",
     "shell.execute_reply": "2024-12-05T20:21:04.701636Z",
     "shell.execute_reply.started": "2024-12-05T20:21:04.307062Z"
    },
    "id": "8ei934lSwVDB",
    "trusted": true
   },
   "outputs": [],
   "source": [
    "# Artistas com mais músicas nas plataformas\n",
    "# Agrupar e contar as músicas por artista\n",
    "top_artists = dados['artist(s)_name'].value_counts().head(20)\n",
    "\n",
    "# Gráfico de barras dos 20 artistas com mais músicas\n",
    "plt.figure(figsize=(12,6))\n",
    "sns.countplot(data=dados[dados['artist(s)_name'].isin(top_artists.index)], y='artist(s)_name', order=top_artists.index)\n",
    "plt.xlabel(\"Número de músicas\")\n",
    "plt.ylabel(\"Nome do artista\")\n",
    "plt.title(\"Artistas com mais músicas nas plataformas\")\n",
    "plt.show()"
   ]
  },
  {
   "cell_type": "markdown",
   "metadata": {
    "id": "6xfrEH1WwVDB"
   },
   "source": [
    "**Desempenho dos artistas nas plataformas:**"
   ]
  },
  {
   "cell_type": "code",
   "execution_count": null,
   "metadata": {
    "colab": {
     "base_uri": "https://localhost:8080/"
    },
    "execution": {
     "iopub.execute_input": "2024-12-05T20:21:04.705129Z",
     "iopub.status.busy": "2024-12-05T20:21:04.704669Z",
     "iopub.status.idle": "2024-12-05T20:21:05.574703Z",
     "shell.execute_reply": "2024-12-05T20:21:05.573321Z",
     "shell.execute_reply.started": "2024-12-05T20:21:04.705081Z"
    },
    "id": "WHBBYogHwVDC",
    "outputId": "775700ae-e6c4-4cea-f23a-6b5615dd997e",
    "trusted": true
   },
   "outputs": [],
   "source": [
    "# Identificar os artistas mais presentes nos charts para cada plataforma\n",
    "top_spotify_charts = dados.groupby('artist(s)_name')['in_spotify_charts'].sum().nlargest(10)\n",
    "top_apple_charts = dados.groupby('artist(s)_name')['in_apple_charts'].sum().nlargest(10)\n",
    "top_deezer_charts = dados.groupby('artist(s)_name')['in_deezer_charts'].sum().nlargest(10)\n",
    "\n",
    "# Configurar os subplots\n",
    "fig, axes = plt.subplots(3, 1, figsize=(10, 18), sharex=False)\n",
    "\n",
    "# Gráfico Spotify Charts\n",
    "sns.barplot(x=top_spotify_charts.values, y=top_spotify_charts.index, ax=axes[0], palette=\"Reds_d\")\n",
    "axes[0].set_title(\"Artistas mais presentes nos Charts do Spotify\")\n",
    "axes[0].set_xlabel(\"Número de Presenças nos Charts\")\n",
    "axes[0].set_ylabel(\"Nome do Artista\")\n",
    "\n",
    "# Gráfico Apple Music Charts\n",
    "sns.barplot(x=top_apple_charts.values, y=top_apple_charts.index, ax=axes[1], palette=\"Oranges_d\")\n",
    "axes[1].set_title(\"Artistas mais presentes nos Charts da Apple Music\")\n",
    "axes[1].set_xlabel(\"Número de Presenças nos Charts\")\n",
    "axes[1].set_ylabel(\"Nome do Artista\")\n",
    "\n",
    "# Gráfico Deezer Charts\n",
    "sns.barplot(x=top_deezer_charts.values, y=top_deezer_charts.index, ax=axes[2], palette=\"YlGnBu_d\")\n",
    "axes[2].set_title(\"Artistas mais presentes nos Charts do Deezer\")\n",
    "axes[2].set_xlabel(\"Número de Presenças nos Charts\")\n",
    "axes[2].set_ylabel(\"Nome do Artista\")\n",
    "\n",
    "plt.tight_layout()\n",
    "plt.show()"
   ]
  },
  {
   "cell_type": "code",
   "execution_count": null,
   "metadata": {
    "colab": {
     "base_uri": "https://localhost:8080/"
    },
    "execution": {
     "iopub.execute_input": "2024-12-05T20:21:05.582052Z",
     "iopub.status.busy": "2024-12-05T20:21:05.580842Z",
     "iopub.status.idle": "2024-12-05T20:21:06.543720Z",
     "shell.execute_reply": "2024-12-05T20:21:06.542659Z",
     "shell.execute_reply.started": "2024-12-05T20:21:05.581992Z"
    },
    "id": "pB29nSOxwVDB",
    "outputId": "b1126674-75c1-4f18-a4e7-6a005bf24ae9",
    "trusted": true
   },
   "outputs": [],
   "source": [
    "# Identificar os artistas mais presentes em playlists para cada plataforma\n",
    "top_spotify_artists = dados.groupby('artist(s)_name')['in_spotify_playlists'].sum().nlargest(10)\n",
    "top_apple_artists = dados.groupby('artist(s)_name')['in_apple_playlists'].sum().nlargest(10)\n",
    "top_deezer_artists = dados.groupby('artist(s)_name')['in_deezer_playlists'].sum().nlargest(10)\n",
    "\n",
    "# Configurar os subplots\n",
    "fig, axes = plt.subplots(3, 1, figsize=(10, 18), sharex=False)\n",
    "\n",
    "# Gráfico Spotify\n",
    "sns.barplot(x=top_spotify_artists.values, y=top_spotify_artists.index, ax=axes[0], palette=\"Greens_d\")\n",
    "axes[0].set_title(\"Artistas mais presentes nas Playlists do Spotify\")\n",
    "axes[0].set_xlabel(\"Número de Playlists\")\n",
    "axes[0].set_ylabel(\"Nome do Artista\")\n",
    "\n",
    "# Gráfico Apple Music\n",
    "sns.barplot(x=top_apple_artists.values, y=top_apple_artists.index, ax=axes[1], palette=\"Purples_d\")\n",
    "axes[1].set_title(\"Artistas mais presentes nas Playlists da Apple Music\")\n",
    "axes[1].set_xlabel(\"Número de Playlists\")\n",
    "axes[1].set_ylabel(\"Nome do Artista\")\n",
    "\n",
    "# Gráfico Deezer\n",
    "sns.barplot(x=top_deezer_artists.values, y=top_deezer_artists.index, ax=axes[2], palette=\"Blues_d\")\n",
    "axes[2].set_title(\"Artistas mais presentes nas Playlists do Deezer\")\n",
    "axes[2].set_xlabel(\"Número de Playlists\")\n",
    "axes[2].set_ylabel(\"Nome do Artista\")\n",
    "\n",
    "plt.tight_layout()\n",
    "plt.show()"
   ]
  },
  {
   "cell_type": "markdown",
   "metadata": {
    "id": "Yfm4zuTL7vxG"
   },
   "source": []
  },
  {
   "cell_type": "markdown",
   "metadata": {
    "id": "_WAcBKbFWmOu"
   },
   "source": [
    "# Mais transmissões gerais"
   ]
  },
  {
   "cell_type": "code",
   "execution_count": null,
   "metadata": {
    "colab": {
     "base_uri": "https://localhost:8080/"
    },
    "execution": {
     "iopub.execute_input": "2024-12-05T20:21:06.545259Z",
     "iopub.status.busy": "2024-12-05T20:21:06.544928Z",
     "iopub.status.idle": "2024-12-05T20:21:06.922356Z",
     "shell.execute_reply": "2024-12-05T20:21:06.921033Z",
     "shell.execute_reply.started": "2024-12-05T20:21:06.545227Z"
    },
    "id": "6rj5eXY9Nr1j",
    "outputId": "a9915805-dda1-4d97-a453-c969cf19c33c",
    "trusted": true
   },
   "outputs": [],
   "source": [
    "# Identificar as músicas com mais transmissões\n",
    "most_streams = dados.groupby('track_name')['streams'].sum().nlargest(10)\n",
    "\n",
    "# Configurar os subplots\n",
    "plt.figure(figsize=(12,6))\n",
    "\n",
    "# Gráfico de transmissões de músicas\n",
    "sns.barplot(x=most_streams.values, y=most_streams.index, palette=\"Reds_d\")\n",
    "plt.title(\"Musicas mais Transmitidas\")\n",
    "plt.xlabel(\"Quantidade de transmissões\")\n",
    "plt.ylabel(\"Nome da música\")\n",
    "\n",
    "plt.tight_layout()\n",
    "plt.show()"
   ]
  },
  {
   "cell_type": "code",
   "execution_count": null,
   "metadata": {
    "colab": {
     "base_uri": "https://localhost:8080/"
    },
    "execution": {
     "iopub.execute_input": "2024-12-05T20:21:06.924105Z",
     "iopub.status.busy": "2024-12-05T20:21:06.923752Z",
     "iopub.status.idle": "2024-12-05T20:21:07.820183Z",
     "shell.execute_reply": "2024-12-05T20:21:07.818780Z",
     "shell.execute_reply.started": "2024-12-05T20:21:06.924070Z"
    },
    "id": "EQQVopXd7yOI",
    "outputId": "3a675205-ea4c-4a5c-9f16-5d49d936f483",
    "trusted": true
   },
   "outputs": [],
   "source": [
    "# Identificar as músicas mais presentes em cada plataforma\n",
    "top_spotify_songs = dados.groupby('track_name')['in_spotify_playlists'].sum().nlargest(10)\n",
    "top_apple_songs = dados.groupby('track_name')['in_apple_playlists'].sum().nlargest(10)\n",
    "top_deezer_songs = dados.groupby('track_name')['in_deezer_playlists'].sum().nlargest(10)\n",
    "\n",
    "# Configurar os subplots\n",
    "fig, axes = plt.subplots(3, 1, figsize=(10, 18), sharex=False)\n",
    "\n",
    "# Gráfico playlists do Spotify\n",
    "sns.barplot(x=top_spotify_songs.values, y=top_spotify_songs.index, ax=axes[0], palette=\"Reds_d\")\n",
    "axes[0].set_title(\"Musicas mais populares do Spotify\")\n",
    "axes[0].set_xlabel(\"Número de presença em playlists\")\n",
    "axes[0].set_ylabel(\"Nome da música\")\n",
    "\n",
    "# Gráfico playlists do Apple Music\n",
    "sns.barplot(x=top_apple_songs.values, y=top_apple_songs.index, ax=axes[1], palette=\"Oranges_d\")\n",
    "axes[1].set_title(\"Musicas mais populares da Apple Music\")\n",
    "axes[1].set_xlabel(\"Número de presenças nos playlists\")\n",
    "axes[1].set_ylabel(\"Nome da música\")\n",
    "\n",
    "# Gráfico playlists do Deezer\n",
    "sns.barplot(x=top_deezer_songs.values, y=top_deezer_songs.index, ax=axes[2], palette=\"YlGnBu_d\")\n",
    "axes[2].set_title(\"Musicas mais populares do Deezer\")\n",
    "axes[2].set_xlabel(\"Número de presença em playlists\")\n",
    "axes[2].set_ylabel(\"Nome da música\")\n",
    "\n",
    "plt.tight_layout()\n",
    "plt.show()"
   ]
  },
  {
   "cell_type": "code",
   "execution_count": null,
   "metadata": {
    "execution": {
     "iopub.execute_input": "2024-12-05T20:21:07.822477Z",
     "iopub.status.busy": "2024-12-05T20:21:07.821949Z",
     "iopub.status.idle": "2024-12-05T20:21:07.828541Z",
     "shell.execute_reply": "2024-12-05T20:21:07.827174Z",
     "shell.execute_reply.started": "2024-12-05T20:21:07.822427Z"
    },
    "id": "3xoqiQImwVDC",
    "trusted": true
   },
   "outputs": [],
   "source": [
    "# Comparar desempenho das músicas lançadas em 2023 com as músicas lançadas em outros anos"
   ]
  },
  {
   "cell_type": "markdown",
   "metadata": {
    "id": "MmH3Keq_wVDC"
   },
   "source": [
    "# Matriz de Correlação"
   ]
  },
  {
   "cell_type": "code",
   "execution_count": null,
   "metadata": {
    "execution": {
     "iopub.execute_input": "2024-12-05T20:21:07.830633Z",
     "iopub.status.busy": "2024-12-05T20:21:07.829969Z",
     "iopub.status.idle": "2024-12-05T20:21:08.498379Z",
     "shell.execute_reply": "2024-12-05T20:21:08.497111Z",
     "shell.execute_reply.started": "2024-12-05T20:21:07.830562Z"
    },
    "id": "BQqhHcQuZRb9",
    "trusted": true
   },
   "outputs": [],
   "source": [
    "# Selecionar as colunas para a matriz de correlação\n",
    "colunas = [\n",
    "    'in_spotify_playlists', 'in_spotify_charts', 'streams',\n",
    "    'in_apple_playlists', 'in_apple_charts',\n",
    "    'in_deezer_playlists', 'in_deezer_charts'\n",
    "]\n",
    "\n",
    "# Criar um DataFrame com apenas as colunas selecionadas\n",
    "dados_numericos = dados[colunas]\n",
    "\n",
    "# Calcular a matriz\n",
    "matriz = dados_numericos.corr()\n",
    "\n",
    "# Exibir a matriz (heatmap)\n",
    "plt.figure(figsize=(10, 8))\n",
    "sns.heatmap(matriz, annot=True, cmap='coolwarm', fmt='.2f')\n",
    "plt.title('Matriz de Correlação')\n",
    "plt.show()"
   ]
  },
  {
   "cell_type": "code",
   "execution_count": null,
   "metadata": {
    "execution": {
     "iopub.execute_input": "2024-12-05T20:21:08.501177Z",
     "iopub.status.busy": "2024-12-05T20:21:08.500722Z",
     "iopub.status.idle": "2024-12-05T20:21:08.507683Z",
     "shell.execute_reply": "2024-12-05T20:21:08.505123Z",
     "shell.execute_reply.started": "2024-12-05T20:21:08.501128Z"
    },
    "id": "aPcXodMDwVDC",
    "trusted": true
   },
   "outputs": [],
   "source": [
    "# Correlações entre as variáveis"
   ]
  },
  {
   "cell_type": "markdown",
   "metadata": {
    "id": "pTQCoKCMwVDC"
   },
   "source": [
    "# Modelos"
   ]
  },
  {
   "cell_type": "markdown",
   "metadata": {
    "id": "BNNlQISJxU-V"
   },
   "source": [
    "# Regressão Logística"
   ]
  },
  {
   "cell_type": "code",
   "execution_count": null,
   "metadata": {
    "execution": {
     "iopub.execute_input": "2024-12-05T20:21:08.510129Z",
     "iopub.status.busy": "2024-12-05T20:21:08.509663Z",
     "iopub.status.idle": "2024-12-05T20:21:08.544362Z",
     "shell.execute_reply": "2024-12-05T20:21:08.540294Z",
     "shell.execute_reply.started": "2024-12-05T20:21:08.510080Z"
    },
    "id": "Q3rz_NCXxZm8",
    "trusted": true
   },
   "outputs": [],
   "source": [
    "# Regressão Logística\n",
    "\n",
    "# Definir o limiar de popularidade\n",
    "limiar_popularidade = dados['streams'].median()\n",
    "\n",
    "# Criar a variável binária 'popularidade' (1 para alta, 0 para baixa)\n",
    "dados['popularidade'] = (dados['streams'] > limiar_popularidade).astype(int)\n",
    "\n",
    "# Agrupar por nome do artista e calcular a média das variáveis relacionadas\n",
    "artistas_populares = dados.groupby('artist(s)_name').agg({\n",
    "    'streams': 'sum',  # Soma dos streams para o artista\n",
    "    'in_spotify_playlists': 'mean',  # Média de playlists no Spotify\n",
    "    'in_apple_playlists': 'mean',  # Média de playlists no Apple Music\n",
    "    'in_deezer_playlists': 'mean',  # Média de playlists no Deezer\n",
    "}).reset_index()"
   ]
  },
  {
   "cell_type": "code",
   "execution_count": null,
   "metadata": {
    "colab": {
     "base_uri": "https://localhost:8080/",
     "height": 80
    },
    "execution": {
     "iopub.execute_input": "2024-12-05T20:21:08.546159Z",
     "iopub.status.busy": "2024-12-05T20:21:08.545702Z",
     "iopub.status.idle": "2024-12-05T20:21:08.593879Z",
     "shell.execute_reply": "2024-12-05T20:21:08.592687Z",
     "shell.execute_reply.started": "2024-12-05T20:21:08.546097Z"
    },
    "id": "J7pVxbwPxbek",
    "outputId": "4ea76dda-88a2-40ae-c6bd-040e4d0f67c1",
    "trusted": true
   },
   "outputs": [],
   "source": [
    "# Variáveis preditoras\n",
    "X = artistas_populares[['in_spotify_playlists', 'in_apple_playlists', 'in_deezer_playlists']]\n",
    "\n",
    "# Variável alvo\n",
    "y = (artistas_populares['streams'] > limiar_popularidade).astype(int)\n",
    "\n",
    "\n",
    "# Dividir em treino e teste (80% treino, 30% teste)\n",
    "X_train, X_test, y_train, y_test = train_test_split(X, y, test_size=0.3, random_state=42)\n",
    "\n",
    "# Criar o modelo de regressão logística\n",
    "modelo_logistico = LogisticRegression()\n",
    "\n",
    "# Treinar o modelo\n",
    "modelo_logistico.fit(X_train, y_train)"
   ]
  },
  {
   "cell_type": "code",
   "execution_count": null,
   "metadata": {
    "colab": {
     "base_uri": "https://localhost:8080/"
    },
    "execution": {
     "iopub.execute_input": "2024-12-05T20:21:08.595548Z",
     "iopub.status.busy": "2024-12-05T20:21:08.595132Z",
     "iopub.status.idle": "2024-12-05T20:21:08.627454Z",
     "shell.execute_reply": "2024-12-05T20:21:08.626257Z",
     "shell.execute_reply.started": "2024-12-05T20:21:08.595502Z"
    },
    "id": "FeeLtAhKyTxk",
    "outputId": "46dbd398-1f76-46a3-caca-dabb156abf7a",
    "trusted": true
   },
   "outputs": [],
   "source": [
    "# Fazer previsões\n",
    "y_pred = modelo_logistico.predict(X_test)\n",
    "\n",
    "# Avaliar a acurácia\n",
    "acuracia = accuracy_score(y_test, y_pred)\n",
    "print(f'Acurácia: {acuracia:.2f}')\n",
    "\n",
    "# Matriz de confusão\n",
    "print(\"Matriz de Confusão:\")\n",
    "print(confusion_matrix(y_test, y_pred))\n",
    "\n",
    "# Relatório de classificação\n",
    "print(\"Relatório de Classificação:\")\n",
    "print(classification_report(y_test, y_pred))"
   ]
  },
  {
   "cell_type": "markdown",
   "metadata": {
    "id": "tN95kr9KzptN"
   },
   "source": [
    "- A regressão logística está determinando a popularidade dos artistas, e para isso foi criado uma nova coluna \"populares\". É calculado uma média e aqueles que estão \"acima\" disso, são classificados como populares.\n",
    "\n",
    "- Variáveis preditoras e variável algo\n",
    "\n",
    "- Divisão de treino e teste\n",
    "\n",
    "- Cria o modelo\n",
    "\n",
    "- Treina o modelo\n",
    "\n",
    "- Avalia o modelo (métricas e matriz de confusão)"
   ]
  },
  {
   "cell_type": "markdown",
   "metadata": {
    "id": "wB7B0tYp1tOn"
   },
   "source": [
    "# Regressão Linear"
   ]
  },
  {
   "cell_type": "code",
   "execution_count": null,
   "metadata": {
    "execution": {
     "iopub.execute_input": "2024-12-05T20:21:08.629239Z",
     "iopub.status.busy": "2024-12-05T20:21:08.628769Z",
     "iopub.status.idle": "2024-12-05T20:21:08.649177Z",
     "shell.execute_reply": "2024-12-05T20:21:08.647921Z",
     "shell.execute_reply.started": "2024-12-05T20:21:08.629189Z"
    },
    "id": "xsLMyKzXvNYs",
    "trusted": true
   },
   "outputs": [],
   "source": [
    "# Definir as variáveis preditoras e a variável alvo\n",
    "X = dados[['in_spotify_playlists', 'in_apple_playlists', 'in_deezer_playlists']] # variáveis preditoras\n",
    "y = dados['streams'] # variável alvo\n",
    "\n",
    "# Dividir dados em conjuntos de treino e teste\n",
    "# 30% dos dados para teste\n",
    "X_train, X_test, y_train, y_test = train_test_split(X, y, test_size=0.3, random_state=42)\n",
    "\n",
    "# Criar o modelo\n",
    "modelo_rl = LinearRegression()\n",
    "\n",
    "# Treinar o modelo\n",
    "modelo_rl.fit(X_train, y_train)\n",
    "\n",
    "# Fazer previsões\n",
    "y_pred = modelo_rl.predict(X_test)"
   ]
  },
  {
   "cell_type": "code",
   "execution_count": null,
   "metadata": {
    "execution": {
     "iopub.execute_input": "2024-12-05T20:21:08.650827Z",
     "iopub.status.busy": "2024-12-05T20:21:08.650377Z",
     "iopub.status.idle": "2024-12-05T20:21:09.069874Z",
     "shell.execute_reply": "2024-12-05T20:21:09.068660Z",
     "shell.execute_reply.started": "2024-12-05T20:21:08.650774Z"
    },
    "id": "hWGC7AgJvOJD",
    "trusted": true
   },
   "outputs": [],
   "source": [
    "# Gráfico de dispersão\n",
    "plt.figure(figsize=(10, 6))\n",
    "plt.scatter(y_test, y_pred, alpha=0.6, color='orange')\n",
    "plt.plot([y_test.min(), y_test.max()], [y_test.min(), y_test.max()], 'r--', lw=2)  # Linha de referência (perfeita correlação)\n",
    "plt.xlabel('Valores Reais')\n",
    "plt.ylabel('Previsões')\n",
    "plt.title('Valores Reais vs Previsões')\n",
    "plt.show()"
   ]
  },
  {
   "cell_type": "code",
   "execution_count": null,
   "metadata": {
    "colab": {
     "base_uri": "https://localhost:8080/"
    },
    "execution": {
     "iopub.execute_input": "2024-12-05T20:21:09.071721Z",
     "iopub.status.busy": "2024-12-05T20:21:09.071300Z",
     "iopub.status.idle": "2024-12-05T20:21:09.082497Z",
     "shell.execute_reply": "2024-12-05T20:21:09.081566Z",
     "shell.execute_reply.started": "2024-12-05T20:21:09.071675Z"
    },
    "id": "cyNTgJ1-vQZD",
    "outputId": "5b73c3d8-2349-47c3-9798-5f9d3698e5db",
    "trusted": true
   },
   "outputs": [],
   "source": [
    "# Calculando as métricas\n",
    "mse = mean_squared_error(y_test, y_pred)\n",
    "rmse = np.sqrt(mse)\n",
    "mae = mean_absolute_error(y_test, y_pred)\n",
    "r2 = r2_score(y_test, y_pred)\n",
    "\n",
    "# Exibindo as métricas\n",
    "print(f\"Erro Absoluto Médio (MAE): {mae:.2f}\")\n",
    "print(f\"Erro Quadrático Médio (MSE): {mse:.2f}\")\n",
    "print(f\"Raiz do Erro Quadrático Médio (RMSE): {rmse:.2f}\")\n",
    "print(f\"Coeficiente de Determinação (R²): {r2:.2f}\")"
   ]
  },
  {
   "cell_type": "code",
   "execution_count": null,
   "metadata": {
    "execution": {
     "iopub.execute_input": "2024-12-05T20:21:09.084215Z",
     "iopub.status.busy": "2024-12-05T20:21:09.083608Z",
     "iopub.status.idle": "2024-12-05T20:21:09.102841Z",
     "shell.execute_reply": "2024-12-05T20:21:09.101675Z",
     "shell.execute_reply.started": "2024-12-05T20:21:09.084166Z"
    },
    "trusted": true
   },
   "outputs": [],
   "source": [
    "score = modelo_rl.score(X_test, y_test)\n",
    "score"
   ]
  },
  {
   "cell_type": "code",
   "execution_count": null,
   "metadata": {
    "execution": {
     "iopub.execute_input": "2024-12-05T20:21:09.104960Z",
     "iopub.status.busy": "2024-12-05T20:21:09.104401Z",
     "iopub.status.idle": "2024-12-05T20:21:09.121428Z",
     "shell.execute_reply": "2024-12-05T20:21:09.120417Z",
     "shell.execute_reply.started": "2024-12-05T20:21:09.104909Z"
    },
    "id": "fC8TL4766Hdt",
    "trusted": true
   },
   "outputs": [],
   "source": [
    "# Regressão Linear\n",
    "\n",
    "# Definir o limiar de popularidade\n",
    "limiar_popularidade_rl = dados['streams'].median()\n",
    "\n",
    "# Criar a variável binária 'popularidade' (1 para alta, 0 para baixa)\n",
    "dados['popularidade_rl'] = (dados['streams'] > limiar_popularidade).astype(int)\n",
    "\n",
    "# Agrupar por nome do artista e calcular a média das variáveis relacionadas\n",
    "artistas_populares = dados.groupby('artist(s)_name').agg({\n",
    "    'streams': 'sum',  # Soma dos streams para o artista\n",
    "    'in_spotify_playlists': 'mean',  # Média de playlists no Spotify\n",
    "    'in_apple_playlists': 'mean',  # Média de playlists no Apple Music\n",
    "    'in_deezer_playlists': 'mean',  # Média de playlists no Deezer\n",
    "}).reset_index()"
   ]
  },
  {
   "cell_type": "code",
   "execution_count": null,
   "metadata": {
    "colab": {
     "base_uri": "https://localhost:8080/"
    },
    "execution": {
     "iopub.execute_input": "2024-12-05T20:21:09.123004Z",
     "iopub.status.busy": "2024-12-05T20:21:09.122576Z",
     "iopub.status.idle": "2024-12-05T20:21:09.134149Z",
     "shell.execute_reply": "2024-12-05T20:21:09.133037Z",
     "shell.execute_reply.started": "2024-12-05T20:21:09.122957Z"
    },
    "id": "eezGl3mn0rD-",
    "outputId": "e94eb4d2-e5e8-48b9-8def-72d708766cca",
    "trusted": true
   },
   "outputs": [],
   "source": [
    "# Definir o limiar para a popularidade (pode ser a mediana das previsões de streams)\n",
    "limiar_popularidade_rl = np.median(y_pred)\n",
    "\n",
    "# Criar uma variável binária de popularidade (1 para popular, 0 para não popular)\n",
    "popularidade_real_rl = (y_test > limiar_popularidade).astype(int)  # Real: popularidade verdadeira\n",
    "popularidade_predita_rl = (y_pred > limiar_popularidade).astype(int)  # Predita: popularidade prevista\n",
    "\n",
    "# Calcular a matriz de confusão\n",
    "matriz_confusao_rl = confusion_matrix(popularidade_real_rl, popularidade_predita_rl)\n",
    "\n",
    "# Exibir a matriz de confusão\n",
    "print(\"Matriz de Confusão:\")\n",
    "print(matriz_confusao_rl)"
   ]
  },
  {
   "cell_type": "code",
   "execution_count": null,
   "metadata": {
    "colab": {
     "base_uri": "https://localhost:8080/"
    },
    "execution": {
     "iopub.execute_input": "2024-12-05T20:21:09.138116Z",
     "iopub.status.busy": "2024-12-05T20:21:09.136258Z",
     "iopub.status.idle": "2024-12-05T20:21:09.147942Z",
     "shell.execute_reply": "2024-12-05T20:21:09.146820Z",
     "shell.execute_reply.started": "2024-12-05T20:21:09.138055Z"
    },
    "id": "V5U_TTgj37nt",
    "outputId": "7af56603-c1a8-4f60-c2a2-840e3f9b39d8",
    "trusted": true
   },
   "outputs": [],
   "source": [
    "print(dados.columns)"
   ]
  },
  {
   "cell_type": "markdown",
   "metadata": {
    "id": "ke4b7hVf_EQ-"
   },
   "source": [
    "# Árvore de Decisão"
   ]
  },
  {
   "cell_type": "code",
   "execution_count": null,
   "metadata": {
    "execution": {
     "iopub.execute_input": "2024-12-05T20:21:09.149638Z",
     "iopub.status.busy": "2024-12-05T20:21:09.149099Z",
     "iopub.status.idle": "2024-12-05T20:21:09.169736Z",
     "shell.execute_reply": "2024-12-05T20:21:09.168418Z",
     "shell.execute_reply.started": "2024-12-05T20:21:09.149450Z"
    },
    "id": "83cTp5Qz_JBG",
    "trusted": true
   },
   "outputs": [],
   "source": [
    "# Definir as variáveis preditoras e a variável alvo\n",
    "X = dados[['in_spotify_playlists', 'in_apple_playlists', 'in_deezer_playlists']] # variáveis preditoras\n",
    "y = dados['streams'] # variável alvo\n",
    "\n",
    "# Dividir dados em conjuntos de treino e teste\n",
    "# 30% dos dados para teste\n",
    "X_train, X_test, y_train, y_test = train_test_split(X, y, test_size=0.3, random_state=42)\n",
    "\n",
    "# Criar o modelo\n",
    "arvore_decisao = DecisionTreeRegressor(max_depth=4, random_state=42)\n",
    "\n",
    "# Treinar o modelo\n",
    "arvore_decisao.fit(X_train, y_train)\n",
    "\n",
    "# Fazer predições\n",
    "y_pred = arvore_decisao.predict(X_test)"
   ]
  },
  {
   "cell_type": "code",
   "execution_count": null,
   "metadata": {
    "execution": {
     "iopub.execute_input": "2024-12-05T20:21:09.171978Z",
     "iopub.status.busy": "2024-12-05T20:21:09.171167Z",
     "iopub.status.idle": "2024-12-05T20:21:09.180526Z",
     "shell.execute_reply": "2024-12-05T20:21:09.179436Z",
     "shell.execute_reply.started": "2024-12-05T20:21:09.171928Z"
    },
    "trusted": true
   },
   "outputs": [],
   "source": [
    "score = arvore_decisao.score(X_test, y_test)"
   ]
  },
  {
   "cell_type": "code",
   "execution_count": null,
   "metadata": {
    "execution": {
     "iopub.execute_input": "2024-12-05T20:21:09.182790Z",
     "iopub.status.busy": "2024-12-05T20:21:09.182118Z",
     "iopub.status.idle": "2024-12-05T20:21:09.192345Z",
     "shell.execute_reply": "2024-12-05T20:21:09.190874Z",
     "shell.execute_reply.started": "2024-12-05T20:21:09.182739Z"
    },
    "trusted": true
   },
   "outputs": [],
   "source": [
    "score"
   ]
  },
  {
   "cell_type": "code",
   "execution_count": null,
   "metadata": {
    "execution": {
     "iopub.execute_input": "2024-12-05T20:21:09.196027Z",
     "iopub.status.busy": "2024-12-05T20:21:09.195552Z",
     "iopub.status.idle": "2024-12-05T20:21:11.142098Z",
     "shell.execute_reply": "2024-12-05T20:21:11.140413Z",
     "shell.execute_reply.started": "2024-12-05T20:21:09.195976Z"
    },
    "id": "dEaeLmUoA5mO",
    "trusted": true
   },
   "outputs": [],
   "source": [
    "# Visualizar a árvore de decisão\n",
    "plt.figure(figsize=(50, 15))\n",
    "plot_tree(arvore_decisao, filled=True, feature_names=X.columns, rounded=True, fontsize=12)\n",
    "\n",
    "for text in plt.gca().texts:\n",
    "    text.set_color('black')  # Alterar cor para melhor visualização\n",
    "\n",
    "plt.show()"
   ]
  },
  {
   "cell_type": "markdown",
   "metadata": {
    "id": "l9NdTo29GFog"
   },
   "source": [
    "# KNN"
   ]
  },
  {
   "cell_type": "code",
   "execution_count": null,
   "metadata": {
    "execution": {
     "iopub.execute_input": "2024-12-05T20:21:11.144169Z",
     "iopub.status.busy": "2024-12-05T20:21:11.143683Z",
     "iopub.status.idle": "2024-12-05T20:21:11.182235Z",
     "shell.execute_reply": "2024-12-05T20:21:11.181143Z",
     "shell.execute_reply.started": "2024-12-05T20:21:11.144119Z"
    },
    "id": "9nfmsnBSGIlB",
    "trusted": true
   },
   "outputs": [],
   "source": [
    "# Definir as variáveis preditoras e a variável alvo\n",
    "X = dados.loc[: , ['in_spotify_playlists', 'in_deezer_playlists']]  # Variáveis preditoras \n",
    "y = dados.loc[: , 'popularidade'].values  # Variável alvo \n",
    "\n",
    "# Dividir dados em conjuntos de treino e teste\n",
    "# 30% dos dados para teste\n",
    "X_train, X_test, y_train, y_test = train_test_split(X, y, test_size=0.3, random_state=42)\n",
    "\n",
    "# Criar o modelo\n",
    "knn = KNeighborsClassifier(n_neighbors= 5)\n",
    "\n",
    "# Treinar o modelo\n",
    "knn.fit(X_train, y_train)\n",
    "\n",
    "# Fazer previsões\n",
    "y_pred = knn.predict(X_test)"
   ]
  },
  {
   "cell_type": "code",
   "execution_count": null,
   "metadata": {
    "execution": {
     "iopub.execute_input": "2024-12-05T20:21:11.184152Z",
     "iopub.status.busy": "2024-12-05T20:21:11.183692Z",
     "iopub.status.idle": "2024-12-05T20:21:11.192624Z",
     "shell.execute_reply": "2024-12-05T20:21:11.191182Z",
     "shell.execute_reply.started": "2024-12-05T20:21:11.184105Z"
    },
    "trusted": true
   },
   "outputs": [],
   "source": [
    "X.shape"
   ]
  },
  {
   "cell_type": "code",
   "execution_count": null,
   "metadata": {
    "execution": {
     "iopub.execute_input": "2024-12-05T20:21:11.194427Z",
     "iopub.status.busy": "2024-12-05T20:21:11.194005Z",
     "iopub.status.idle": "2024-12-05T20:21:11.209021Z",
     "shell.execute_reply": "2024-12-05T20:21:11.207424Z",
     "shell.execute_reply.started": "2024-12-05T20:21:11.194391Z"
    },
    "trusted": true
   },
   "outputs": [],
   "source": [
    "y_pred"
   ]
  },
  {
   "cell_type": "code",
   "execution_count": null,
   "metadata": {
    "execution": {
     "iopub.execute_input": "2024-12-05T20:21:11.211970Z",
     "iopub.status.busy": "2024-12-05T20:21:11.210661Z",
     "iopub.status.idle": "2024-12-05T20:21:11.245302Z",
     "shell.execute_reply": "2024-12-05T20:21:11.244006Z",
     "shell.execute_reply.started": "2024-12-05T20:21:11.211905Z"
    },
    "trusted": true
   },
   "outputs": [],
   "source": [
    "# calculate classification accuracy\n",
    "score = knn.score(X_test, y_test)"
   ]
  },
  {
   "cell_type": "code",
   "execution_count": null,
   "metadata": {
    "execution": {
     "iopub.execute_input": "2024-12-05T20:21:11.247710Z",
     "iopub.status.busy": "2024-12-05T20:21:11.247123Z",
     "iopub.status.idle": "2024-12-05T20:21:11.254614Z",
     "shell.execute_reply": "2024-12-05T20:21:11.253275Z",
     "shell.execute_reply.started": "2024-12-05T20:21:11.247497Z"
    },
    "trusted": true
   },
   "outputs": [],
   "source": [
    "score"
   ]
  },
  {
   "cell_type": "markdown",
   "metadata": {},
   "source": [
    "# Código de tentativa de KNN\n",
    "\n",
    "> **Definição das cores para o gráfico de decisão**\n",
    ">cmap_light = ListedColormap(['orange', 'cyan', 'cornflowerblue'])  # Cores de fundo para a região de decisão\n",
    "cmap_bold = ListedColormap(['darkorange', 'c', 'darkblue'])        # Cores para os pontos de dados\n",
    "\n",
    ">h = .02  # Tamanho do passo para a grade de pontos (mesh grid), controla a resolução do gráfico de decisão\n",
    "\n",
    "\n",
    "> **Determina o intervalo mínimo e máximo dos dados para as duas variáveis de entrada**\n",
    " Aqui, estamos pegando o valor mínimo e máximo das variáveis 'in_spotify_playlists' e 'in_deezer_playlists'\n",
    ">x_min, x_max = X_train.loc[: , 'in_spotify_playlists'].values.min() - 1, X_train.loc[: , 'in_spotify_playlists'].values.max() + 1\n",
    "y_min, y_max = X_train.loc[: , 'in_deezer_playlists'].values.min() - 1, X_train.loc[: , 'in_deezer_playlists'].values.max() + 1\n",
    "\n",
    "> Criação da grade de pontos (mesh grid) para visualização\n",
    " np.meshgrid cria uma malha de pontos em uma área específica, usando os limites definidos para as variáveis\n",
    ">xx, yy = np.meshgrid(np.arange(x_min, x_max, h),   # Grade para a variável 'in_spotify_playlists'\n",
    "                     np.arange(y_min, y_max, h))   # Grade para a variável 'in_deezer_playlists'\n",
    "\n",
    "\n",
    ">** Realiza a predição do modelo KNN para cada ponto na grade, e gera a classe prevista para cada ponto (Z) np.c_[] é usado para combinar as coordenadas xx e yy em uma matriz 2D, que pode ser usada pelo modelo KNN**\n",
    "\n",
    ">Z = knn.predict(np.c_[xx.ravel(), yy.ravel()])\n",
    "\n",
    "> Reshape a previsão Z para corresponder ao formato da grade de pontos\n",
    ">Z = Z.reshape(xx.shape)\n",
    "\n",
    "> **Criação do gráfico de decisão**\n",
    ">plt.figure()  # Cria uma nova figura\n",
    "plt.pcolormesh(xx, yy, Z, cmap=cmap_light, shading='nearest')  **# Exibe o gráfico de decisão (mapeando as regiões de classificação)**\n",
    "\n",
    "> \n",
    "**Plotando os pontos de treino no gráfico Os pontos são coloridos de acordo com os valores de y_train (rótulos de classe)**\n",
    "\n",
    ">plt.scatter(X_train.loc[: , 'in_spotify_playlists'].values,  # **Posições no eixo X (Spotify)**\n",
    "            X_train.loc[: , 'in_deezer_playlists'].values,    # **Posições no eixo Y (Deezer)**\n",
    "            c=y_train,  **# Cores baseadas nos rótulos de classe**\n",
    "            cmap=cmap_bold,  **# Usando a colormap definida para os pontos de dados**\n",
    "            edgecolor='k',  **# Borda preta para destacar os pontos**\n",
    "            s=20)            **# Tamanho dos pontos de treino**\n",
    "\n",
    "> **Ajusta os limites do gráfico para que correspondam à grade criada anteriormente**\n",
    ">plt.xlim(xx.min(), xx.max())  # Limites do eixo X (baseado na grade de pontos)\n",
    "plt.ylim(yy.min(), yy.max())  # Limites do eixo Y (baseado na grade de pontos)\n",
    "\n",
    "> **Adiciona um título ao gráfico**\n",
    ">plt.title(\"3-Class classification (k = 5)\")  # O título do gráfico descreve o problema e o parâmetro k do KNN\n",
    "\n",
    "> **Exibe o gráfico**\n",
    ">plt.show()\n"
   ]
  }
 ],
 "metadata": {
  "colab": {
   "provenance": []
  },
  "kaggle": {
   "accelerator": "none",
   "dataSources": [
    {
     "datasetId": 3668746,
     "sourceId": 6367938,
     "sourceType": "datasetVersion"
    }
   ],
   "dockerImageVersionId": 30786,
   "isGpuEnabled": false,
   "isInternetEnabled": true,
   "language": "python",
   "sourceType": "notebook"
  },
  "kernelspec": {
   "display_name": "Python 3",
   "language": "python",
   "name": "python3"
  },
  "language_info": {
   "codemirror_mode": {
    "name": "ipython",
    "version": 3
   },
   "file_extension": ".py",
   "mimetype": "text/x-python",
   "name": "python",
   "nbconvert_exporter": "python",
   "pygments_lexer": "ipython3",
   "version": "3.10.11"
  }
 },
 "nbformat": 4,
 "nbformat_minor": 4
}
